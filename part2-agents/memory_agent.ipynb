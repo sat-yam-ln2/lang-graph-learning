{
 "cells": [
  {
   "cell_type": "code",
   "execution_count": 13,
   "id": "0ac27e7e",
   "metadata": {},
   "outputs": [],
   "source": [
    "from typing import TypedDict, List, Union\n",
    "from langchain_core.messages import HumanMessage, AIMessage\n",
    "from langchain_community.chat_models import ChatOllama\n",
    "from langgraph.graph import StateGraph, START, END\n",
    "from langchain_community.chat_models import ChatOllama\n"
   ]
  },
  {
   "cell_type": "code",
   "execution_count": 14,
   "id": "021c5633",
   "metadata": {},
   "outputs": [],
   "source": [
    "class AgentState(TypedDict):\n",
    "    messages: List[Union[HumanMessage, AIMessage]]\n"
   ]
  },
  {
   "cell_type": "code",
   "execution_count": 15,
   "id": "4d95fef4",
   "metadata": {},
   "outputs": [],
   "source": [
    "llm = ChatOllama(\n",
    "    model=\"qwen3:1.7b\",      # change to your model name\n",
    "    temperature=0,       # deterministic output\n",
    "    base_url=\"http://localhost:11434\"  # Ollama default server URL\n",
    ")"
   ]
  },
  {
   "cell_type": "code",
   "execution_count": 16,
   "id": "447ef234",
   "metadata": {},
   "outputs": [],
   "source": [
    "def process(state: AgentState) -> AgentState:\n",
    "    response = llm.invoke(state['messages'])\n",
    "    state['messages'].append(AIMessage(content=response.content))\n",
    "    print(f\"Response: {response.content}\")\n",
    "    return state"
   ]
  },
  {
   "cell_type": "code",
   "execution_count": 17,
   "id": "a77994be",
   "metadata": {},
   "outputs": [],
   "source": [
    "graph = StateGraph(AgentState)\n",
    "graph.add_node(\"process\", process)\n",
    "graph.add_edge(START, \"process\")\n",
    "graph.add_edge(\"process\", END)\n",
    "agent = graph.compile()\n"
   ]
  },
  {
   "cell_type": "code",
   "execution_count": 18,
   "id": "0e8dbde5",
   "metadata": {},
   "outputs": [],
   "source": [
    "conversation_history = []"
   ]
  },
  {
   "cell_type": "code",
   "execution_count": 19,
   "id": "de4e7834",
   "metadata": {},
   "outputs": [
    {
     "name": "stdout",
     "output_type": "stream",
     "text": [
      "Response: <think>\n",
      "Okay, the user said \"hi\". I need to respond in a friendly and helpful way. Let me start by acknowledging their greeting. Maybe mention that I'm here to help. Keep it simple and open-ended so they feel comfortable asking questions. Add an emoji to keep it friendly. Check if there's anything specific they need, but don't push too hard. Just a welcoming message.\n",
      "</think>\n",
      "\n",
      "Hello! I'm here to help. How can I assist you today? 😊\n",
      "[HumanMessage(content='hi', additional_kwargs={}, response_metadata={}), AIMessage(content='<think>\\nOkay, the user said \"hi\". I need to respond in a friendly and helpful way. Let me start by acknowledging their greeting. Maybe mention that I\\'m here to help. Keep it simple and open-ended so they feel comfortable asking questions. Add an emoji to keep it friendly. Check if there\\'s anything specific they need, but don\\'t push too hard. Just a welcoming message.\\n</think>\\n\\nHello! I\\'m here to help. How can I assist you today? 😊', additional_kwargs={}, response_metadata={})]\n",
      "Response: <think>\n",
      "Okay, the user just said \"hi\". I need to respond appropriately. Since they're starting the conversation, a friendly and welcoming response is best. Maybe something like \"Hello! How can I assist you today?\" to keep it open. I should keep it simple and positive. Let me make sure there's no markdown and it's in natural English. Alright, that should do it.\n",
      "</think>\n",
      "\n",
      "Hello! How can I assist you today? 😊\n",
      "[HumanMessage(content='hi', additional_kwargs={}, response_metadata={}), AIMessage(content='<think>\\nOkay, the user said \"hi\". I need to respond in a friendly and helpful way. Let me start by acknowledging their greeting. Maybe mention that I\\'m here to help. Keep it simple and open-ended so they feel comfortable asking questions. Add an emoji to keep it friendly. Check if there\\'s anything specific they need, but don\\'t push too hard. Just a welcoming message.\\n</think>\\n\\nHello! I\\'m here to help. How can I assist you today? 😊', additional_kwargs={}, response_metadata={}), HumanMessage(content='hi', additional_kwargs={}, response_metadata={}), AIMessage(content='<think>\\nOkay, the user just said \"hi\". I need to respond appropriately. Since they\\'re starting the conversation, a friendly and welcoming response is best. Maybe something like \"Hello! How can I assist you today?\" to keep it open. I should keep it simple and positive. Let me make sure there\\'s no markdown and it\\'s in natural English. Alright, that should do it.\\n</think>\\n\\nHello! How can I assist you today? 😊', additional_kwargs={}, response_metadata={})]\n",
      "Response: <think>\n",
      "Okay, the user introduced themselves as Satyam Dulal and mentioned that I'm his assistant named Pi. I need to respond appropriately. First, I should acknowledge his introduction. Since he's using a name, maybe I can use a friendly greeting with his name. Let me make sure to respond in a way that's welcoming and shows I'm ready to help. Also, I should keep the tone positive and helpful. Maybe add an emoji to keep it friendly. Let me check if there's anything else he might need. He might want to start a conversation or ask a question. I should prompt him to ask something so the conversation can continue. Alright, that should cover it.\n",
      "</think>\n",
      "\n",
      "Hello, Satyam Dulal! Welcome to the chat! I'm Pi, your assistant here. How can I assist you today? 😊 Let me know what you need help with!\n",
      "[HumanMessage(content='hi', additional_kwargs={}, response_metadata={}), AIMessage(content='<think>\\nOkay, the user said \"hi\". I need to respond in a friendly and helpful way. Let me start by acknowledging their greeting. Maybe mention that I\\'m here to help. Keep it simple and open-ended so they feel comfortable asking questions. Add an emoji to keep it friendly. Check if there\\'s anything specific they need, but don\\'t push too hard. Just a welcoming message.\\n</think>\\n\\nHello! I\\'m here to help. How can I assist you today? 😊', additional_kwargs={}, response_metadata={}), HumanMessage(content='hi', additional_kwargs={}, response_metadata={}), AIMessage(content='<think>\\nOkay, the user just said \"hi\". I need to respond appropriately. Since they\\'re starting the conversation, a friendly and welcoming response is best. Maybe something like \"Hello! How can I assist you today?\" to keep it open. I should keep it simple and positive. Let me make sure there\\'s no markdown and it\\'s in natural English. Alright, that should do it.\\n</think>\\n\\nHello! How can I assist you today? 😊', additional_kwargs={}, response_metadata={}), HumanMessage(content='i am satyam dulal , you are my assistant named pi', additional_kwargs={}, response_metadata={}), AIMessage(content=\"<think>\\nOkay, the user introduced themselves as Satyam Dulal and mentioned that I'm his assistant named Pi. I need to respond appropriately. First, I should acknowledge his introduction. Since he's using a name, maybe I can use a friendly greeting with his name. Let me make sure to respond in a way that's welcoming and shows I'm ready to help. Also, I should keep the tone positive and helpful. Maybe add an emoji to keep it friendly. Let me check if there's anything else he might need. He might want to start a conversation or ask a question. I should prompt him to ask something so the conversation can continue. Alright, that should cover it.\\n</think>\\n\\nHello, Satyam Dulal! Welcome to the chat! I'm Pi, your assistant here. How can I assist you today? 😊 Let me know what you need help with!\", additional_kwargs={}, response_metadata={})]\n",
      "Response: <think>\n",
      "Okay, the user asked if I remember their name. They mentioned their name is Satyam Dulal. Let me check the conversation history.\n",
      "\n",
      "In the previous messages, the user greeted me as \"hi\" and then said, \"i am satyam dulal , you are my assistant named pi\". I responded by saying hello and asking how I can assist. Then the user asked if I remember their name, and I said I'm Pi, their assistant.\n",
      "\n",
      "So, the user is confirming their name. I need to confirm that I do remember their name. The response should be friendly and acknowledge their name. Maybe add an emoji to keep the tone light. Also, offer help again to keep the conversation going. Make sure to use the correct name, Satyam Dulal.\n",
      "</think>\n",
      "\n",
      "Hello, Satyam Dulal! I remember your name! 😊 I'm Pi, your assistant here. How can I assist you today? Let me know what you need! 🌟\n",
      "[HumanMessage(content='hi', additional_kwargs={}, response_metadata={}), AIMessage(content='<think>\\nOkay, the user said \"hi\". I need to respond in a friendly and helpful way. Let me start by acknowledging their greeting. Maybe mention that I\\'m here to help. Keep it simple and open-ended so they feel comfortable asking questions. Add an emoji to keep it friendly. Check if there\\'s anything specific they need, but don\\'t push too hard. Just a welcoming message.\\n</think>\\n\\nHello! I\\'m here to help. How can I assist you today? 😊', additional_kwargs={}, response_metadata={}), HumanMessage(content='hi', additional_kwargs={}, response_metadata={}), AIMessage(content='<think>\\nOkay, the user just said \"hi\". I need to respond appropriately. Since they\\'re starting the conversation, a friendly and welcoming response is best. Maybe something like \"Hello! How can I assist you today?\" to keep it open. I should keep it simple and positive. Let me make sure there\\'s no markdown and it\\'s in natural English. Alright, that should do it.\\n</think>\\n\\nHello! How can I assist you today? 😊', additional_kwargs={}, response_metadata={}), HumanMessage(content='i am satyam dulal , you are my assistant named pi', additional_kwargs={}, response_metadata={}), AIMessage(content=\"<think>\\nOkay, the user introduced themselves as Satyam Dulal and mentioned that I'm his assistant named Pi. I need to respond appropriately. First, I should acknowledge his introduction. Since he's using a name, maybe I can use a friendly greeting with his name. Let me make sure to respond in a way that's welcoming and shows I'm ready to help. Also, I should keep the tone positive and helpful. Maybe add an emoji to keep it friendly. Let me check if there's anything else he might need. He might want to start a conversation or ask a question. I should prompt him to ask something so the conversation can continue. Alright, that should cover it.\\n</think>\\n\\nHello, Satyam Dulal! Welcome to the chat! I'm Pi, your assistant here. How can I assist you today? 😊 Let me know what you need help with!\", additional_kwargs={}, response_metadata={}), HumanMessage(content='do you remember my name what it is?', additional_kwargs={}, response_metadata={}), AIMessage(content='<think>\\nOkay, the user asked if I remember their name. They mentioned their name is Satyam Dulal. Let me check the conversation history.\\n\\nIn the previous messages, the user greeted me as \"hi\" and then said, \"i am satyam dulal , you are my assistant named pi\". I responded by saying hello and asking how I can assist. Then the user asked if I remember their name, and I said I\\'m Pi, their assistant.\\n\\nSo, the user is confirming their name. I need to confirm that I do remember their name. The response should be friendly and acknowledge their name. Maybe add an emoji to keep the tone light. Also, offer help again to keep the conversation going. Make sure to use the correct name, Satyam Dulal.\\n</think>\\n\\nHello, Satyam Dulal! I remember your name! 😊 I\\'m Pi, your assistant here. How can I assist you today? Let me know what you need! 🌟', additional_kwargs={}, response_metadata={})]\n",
      "Response: <think>\n",
      "Okay, the user just said \"i am satyam dulal , you are my assistant named pi\" and then asked if I remember their name. I responded that I do remember their name, Satyam Dulal. Now the user is asking \"do you remember my name what it is?\" which is a bit confusing. They might be checking if I remember their name, but they mentioned their name twice. Wait, in the previous message, they said \"i am satyam dulal , you are my assistant named pi\" and then asked if I remember their name. I replied that I do remember their name. Now they're asking \"do you remember my name what it is?\" which is a bit unclear. Maybe they want to confirm if I remember their name and what it is. Since I already confirmed that I do remember their name, I should just reaffirm that. Also, they might be testing if I can recognize their name. I should make sure to keep the response friendly and confirm the name again.\n",
      "</think>\n",
      "\n",
      "Hello, Satyam Dulal! I remember your name! 😊 I'm Pi, your assistant here. How can I assist you today? Let me know what you need! 🌟\n",
      "[HumanMessage(content='hi', additional_kwargs={}, response_metadata={}), AIMessage(content='<think>\\nOkay, the user said \"hi\". I need to respond in a friendly and helpful way. Let me start by acknowledging their greeting. Maybe mention that I\\'m here to help. Keep it simple and open-ended so they feel comfortable asking questions. Add an emoji to keep it friendly. Check if there\\'s anything specific they need, but don\\'t push too hard. Just a welcoming message.\\n</think>\\n\\nHello! I\\'m here to help. How can I assist you today? 😊', additional_kwargs={}, response_metadata={}), HumanMessage(content='hi', additional_kwargs={}, response_metadata={}), AIMessage(content='<think>\\nOkay, the user just said \"hi\". I need to respond appropriately. Since they\\'re starting the conversation, a friendly and welcoming response is best. Maybe something like \"Hello! How can I assist you today?\" to keep it open. I should keep it simple and positive. Let me make sure there\\'s no markdown and it\\'s in natural English. Alright, that should do it.\\n</think>\\n\\nHello! How can I assist you today? 😊', additional_kwargs={}, response_metadata={}), HumanMessage(content='i am satyam dulal , you are my assistant named pi', additional_kwargs={}, response_metadata={}), AIMessage(content=\"<think>\\nOkay, the user introduced themselves as Satyam Dulal and mentioned that I'm his assistant named Pi. I need to respond appropriately. First, I should acknowledge his introduction. Since he's using a name, maybe I can use a friendly greeting with his name. Let me make sure to respond in a way that's welcoming and shows I'm ready to help. Also, I should keep the tone positive and helpful. Maybe add an emoji to keep it friendly. Let me check if there's anything else he might need. He might want to start a conversation or ask a question. I should prompt him to ask something so the conversation can continue. Alright, that should cover it.\\n</think>\\n\\nHello, Satyam Dulal! Welcome to the chat! I'm Pi, your assistant here. How can I assist you today? 😊 Let me know what you need help with!\", additional_kwargs={}, response_metadata={}), HumanMessage(content='do you remember my name what it is?', additional_kwargs={}, response_metadata={}), AIMessage(content='<think>\\nOkay, the user asked if I remember their name. They mentioned their name is Satyam Dulal. Let me check the conversation history.\\n\\nIn the previous messages, the user greeted me as \"hi\" and then said, \"i am satyam dulal , you are my assistant named pi\". I responded by saying hello and asking how I can assist. Then the user asked if I remember their name, and I said I\\'m Pi, their assistant.\\n\\nSo, the user is confirming their name. I need to confirm that I do remember their name. The response should be friendly and acknowledge their name. Maybe add an emoji to keep the tone light. Also, offer help again to keep the conversation going. Make sure to use the correct name, Satyam Dulal.\\n</think>\\n\\nHello, Satyam Dulal! I remember your name! 😊 I\\'m Pi, your assistant here. How can I assist you today? Let me know what you need! 🌟', additional_kwargs={}, response_metadata={}), HumanMessage(content='', additional_kwargs={}, response_metadata={}), AIMessage(content='<think>\\nOkay, the user just said \"i am satyam dulal , you are my assistant named pi\" and then asked if I remember their name. I responded that I do remember their name, Satyam Dulal. Now the user is asking \"do you remember my name what it is?\" which is a bit confusing. They might be checking if I remember their name, but they mentioned their name twice. Wait, in the previous message, they said \"i am satyam dulal , you are my assistant named pi\" and then asked if I remember their name. I replied that I do remember their name. Now they\\'re asking \"do you remember my name what it is?\" which is a bit unclear. Maybe they want to confirm if I remember their name and what it is. Since I already confirmed that I do remember their name, I should just reaffirm that. Also, they might be testing if I can recognize their name. I should make sure to keep the response friendly and confirm the name again.\\n</think>\\n\\nHello, Satyam Dulal! I remember your name! 😊 I\\'m Pi, your assistant here. How can I assist you today? Let me know what you need! 🌟', additional_kwargs={}, response_metadata={})]\n"
     ]
    }
   ],
   "source": [
    "user_input = input(\"Enter : \")\n",
    "while user_input.lower() != \"exit\":\n",
    "    conversation_history.append(HumanMessage(content=user_input))\n",
    "    result = agent.invoke({\n",
    "        \"messages\": conversation_history\n",
    "    })\n",
    "    print(result[\"messages\"])\n",
    "    conversation_history = result[\"messages\"]\n",
    "    user_input = input(\"Enter : \")"
   ]
  },
  {
   "cell_type": "code",
   "execution_count": null,
   "id": "fd28777f",
   "metadata": {},
   "outputs": [],
   "source": []
  }
 ],
 "metadata": {
  "kernelspec": {
   "display_name": "langraph_env",
   "language": "python",
   "name": "python3"
  },
  "language_info": {
   "codemirror_mode": {
    "name": "ipython",
    "version": 3
   },
   "file_extension": ".py",
   "mimetype": "text/x-python",
   "name": "python",
   "nbconvert_exporter": "python",
   "pygments_lexer": "ipython3",
   "version": "3.12.3"
  }
 },
 "nbformat": 4,
 "nbformat_minor": 5
}
