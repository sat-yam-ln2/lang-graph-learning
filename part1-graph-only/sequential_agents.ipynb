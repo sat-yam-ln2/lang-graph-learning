{
 "cells": [
  {
   "cell_type": "code",
   "execution_count": 2,
   "id": "b4c4b15e",
   "metadata": {},
   "outputs": [],
   "source": [
    "from typing import TypedDict, List\n",
    "from langgraph.graph import StateGraph "
   ]
  },
  {
   "cell_type": "code",
   "execution_count": 3,
   "id": "75de9cba",
   "metadata": {},
   "outputs": [],
   "source": [
    "class AgentState(TypedDict):\n",
    "    name: str\n",
    "    age : int\n",
    "    final : str\n",
    "\n"
   ]
  },
  {
   "cell_type": "code",
   "execution_count": 4,
   "id": "71247ac1",
   "metadata": {},
   "outputs": [],
   "source": [
    "def node_one(state: AgentState) -> AgentState:\n",
    "    state['final'] = f\"Hello {state['name']}!\"\n",
    "    return state\n",
    "def node_two(state: AgentState) -> AgentState:\n",
    "    state['final'] += f\" You are {state['age']} years old.\"\n",
    "    return state\n"
   ]
  },
  {
   "cell_type": "code",
   "execution_count": 9,
   "id": "32dc3665",
   "metadata": {},
   "outputs": [],
   "source": [
    "graph = StateGraph(AgentState)\n",
    "graph.add_node(\"node_one\", node_one)\n",
    "graph.add_node(\"node_two\", node_two)\n",
    "\n",
    "graph.set_entry_point(\"node_one\")\n",
    "graph.add_edge(\"node_one\", \"node_two\")\n",
    "graph.set_finish_point(\"node_two\")\n",
    "\n",
    "app = graph.compile()"
   ]
  },
  {
   "cell_type": "code",
   "execution_count": 11,
   "id": "caf71286",
   "metadata": {},
   "outputs": [
    {
     "data": {
      "image/png": "[encoded data removed]",
      "text/plain": [
       "<IPython.core.display.Image object>"
      ]
     },
     "metadata": {},
     "output_type": "display_data"
    }
   ],
   "source": [
    "from IPython.display import display, Image\n",
    "display(Image(app.get_graph().draw_mermaid_png()))"
   ]
  },
  {
   "cell_type": "code",
   "execution_count": 14,
   "id": "364094ba",
   "metadata": {},
   "outputs": [
    {
     "name": "stdout",
     "output_type": "stream",
     "text": [
      "Hello Earther! You are 30 years old.\n"
     ]
    }
   ],
   "source": [
    "result = app.invoke(AgentState(name=\"Earther\", age=30, final=\"\"))\n",
    "print(result['final'])  "
   ]
  },
  {
   "cell_type": "code",
   "execution_count": null,
   "id": "a356d7db",
   "metadata": {},
   "outputs": [],
   "source": []
  }
 ],
 "metadata": {
  "kernelspec": {
   "display_name": "md-ai",
   "language": "python",
   "name": "python3"
  },
  "language_info": {
   "codemirror_mode": {
    "name": "ipython",
    "version": 3
   },
   "file_extension": ".py",
   "mimetype": "text/x-python",
   "name": "python",
   "nbconvert_exporter": "python",
   "pygments_lexer": "ipython3",
   "version": "3.9.15"
  }
 },
 "nbformat": 4,
 "nbformat_minor": 5
}
