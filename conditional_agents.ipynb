{
 "cells": [
  {
   "cell_type": "code",
   "execution_count": 21,
   "id": "76c27ce7",
   "metadata": {},
   "outputs": [],
   "source": [
    "from typing import TypedDict, List\n",
    "from langgraph.graph import StateGraph, START, END"
   ]
  },
  {
   "cell_type": "code",
   "execution_count": 22,
   "id": "c6052fd2",
   "metadata": {},
   "outputs": [],
   "source": [
    "class AgentState(TypedDict):\n",
    "    \"\"\"State for the agent.\"\"\"\n",
    "    num1 : int\n",
    "    num2 : int\n",
    "    operation : str\n",
    "    result : int\n",
    "    "
   ]
  },
  {
   "cell_type": "code",
   "execution_count": 23,
   "id": "472659ad",
   "metadata": {},
   "outputs": [],
   "source": [
    "def add_node(state: AgentState) -> AgentState:\n",
    "    \"\"\"Add two numbers.\"\"\"\n",
    "    state['result'] = state['num1'] + state['num2']\n",
    "    return state\n",
    "\n",
    "def subtract_node(state: AgentState) -> AgentState:\n",
    "    \"\"\"Subtract two numbers.\"\"\"\n",
    "    state['result'] = state['num1'] - state['num2']\n",
    "    return state\n",
    "\n",
    "def decide_next_node(state: AgentState) -> str:\n",
    "    \"\"\"Decide the next node based on the operation.\"\"\"\n",
    "    if state['operation'] == '+':\n",
    "        return 'addition'\n",
    "    elif state['operation'] == '-':\n",
    "        return 'subtraction'"
   ]
  },
  {
   "cell_type": "code",
   "execution_count": 24,
   "id": "228e3217",
   "metadata": {},
   "outputs": [],
   "source": [
    "graph = StateGraph(AgentState)"
   ]
  },
  {
   "cell_type": "code",
   "execution_count": 25,
   "id": "1b5aaa89",
   "metadata": {},
   "outputs": [
    {
     "data": {
      "text/plain": [
       "<langgraph.graph.state.StateGraph at 0x782bb9b9fc80>"
      ]
     },
     "execution_count": 25,
     "metadata": {},
     "output_type": "execute_result"
    }
   ],
   "source": [
    "\n",
    "\n",
    "graph.add_node(\"router\", lambda state: state)\n",
    "graph.add_node('addition_node', add_node)\n",
    "graph.add_node('subtraction_node', subtract_node)\n",
    "\n",
    "\n",
    "\"\"\"\n",
    "If you always want to go from node A to node B, you can use the add_edge method directly.\n",
    "\"\"\"\n",
    "graph.add_edge(START, \"router\")\n",
    "\"\"\" \n",
    "    the add_conditional_edges requires three parameters:\n",
    "    1. source = The starting node. This conditional edge will run when exiting this node.\n",
    "    2. path = The callable that determines the next node or nodes. If not specifying path_map \n",
    "        it should return one or more nodes. If it returns END, the graph will stop execution.\n",
    "    3. path_map = A dictionary that maps the output of the path callable to the next node.\n",
    "\n",
    "\"\"\"\n",
    "graph.add_conditional_edges(\n",
    "    \"router\", \n",
    "    decide_next_node,\n",
    "    {\n",
    "        #edge : node\n",
    "        \"addition\": \"addition_node\",\n",
    "        \"subtraction\": \"subtraction_node\"\n",
    "    }\n",
    ")\n",
    "\n",
    "graph.add_edge(\"addition_node\", END)\n",
    "graph.add_edge(\"subtraction_node\", END)\n"
   ]
  },
  {
   "cell_type": "code",
   "execution_count": 27,
   "id": "e147b16f",
   "metadata": {},
   "outputs": [],
   "source": [
    "app = graph.compile()"
   ]
  },
  {
   "cell_type": "code",
   "execution_count": 28,
   "id": "83108eb7",
   "metadata": {},
   "outputs": [
    {
     "data": {
      "image/png": "[encoded data removed]",
      "text/plain": [
       "<IPython.core.display.Image object>"
      ]
     },
     "metadata": {},
     "output_type": "display_data"
    }
   ],
   "source": [
    "from IPython.display import display, Image\n",
    "display(Image(app.get_graph().draw_mermaid_png()))"
   ]
  },
  {
   "cell_type": "code",
   "execution_count": 29,
   "id": "033fba41",
   "metadata": {},
   "outputs": [
    {
     "name": "stdout",
     "output_type": "stream",
     "text": [
      "{'num1': 5, 'num2': 3, 'operation': '+', 'result': 8}\n"
     ]
    }
   ],
   "source": [
    "print(app.invoke(AgentState(num1=5, num2=3, operation='+')))"
   ]
  },
  {
   "cell_type": "code",
   "execution_count": null,
   "id": "117fac69",
   "metadata": {},
   "outputs": [],
   "source": []
  }
 ],
 "metadata": {
  "kernelspec": {
   "display_name": "langraph_env",
   "language": "python",
   "name": "python3"
  },
  "language_info": {
   "codemirror_mode": {
    "name": "ipython",
    "version": 3
   },
   "file_extension": ".py",
   "mimetype": "text/x-python",
   "name": "python",
   "nbconvert_exporter": "python",
   "pygments_lexer": "ipython3",
   "version": "3.12.3"
  }
 },
 "nbformat": 4,
 "nbformat_minor": 5
}
