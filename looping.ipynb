{
 "cells": [
  {
   "cell_type": "code",
   "execution_count": 2,
   "id": "99044100",
   "metadata": {},
   "outputs": [],
   "source": [
    "from langgraph.graph import StateGraph, START, END\n",
    "from typing import TypedDict, List\n",
    "import random "
   ]
  },
  {
   "cell_type": "code",
   "execution_count": 3,
   "id": "7608350b",
   "metadata": {},
   "outputs": [],
   "source": [
    "class AgentState(TypedDict):\n",
    "    name : str\n",
    "    number : List[int]\n",
    "    count : int\n",
    "    "
   ]
  },
  {
   "cell_type": "code",
   "execution_count": null,
   "id": "8a0ffd19",
   "metadata": {},
   "outputs": [],
   "source": [
    "def greeting_node(state: AgentState) -> AgentState:\n",
    "    \"\"\"Says Hi to the person. \"\"\"\n",
    "    state['name'] = f\"Hi {state['name']}!\"\n",
    "    return state\n",
    "\n",
    "def random_node(state: AgentState) -> AgentState:\n",
    "    \"\"\"Generates a random number between 1 and 10.\"\"\"\n",
    "    state['number'].append(random.randint(1, 10))\n",
    "    state['count'] +=1\n",
    "    return state\n",
    "\n",
    "def should_continue_node(state: AgentState) -> AgentState:\n",
    "    \"\"\"Decides whether to continue or not.\"\"\"\n",
    "    if state['count'] < 5:\n",
    "        print(f\"Etering loop , Counter{state['count']}\")\n",
    "        state['count'] += 1\n",
    "        return loop\n",
    "    else:\n",
    "        return \"exit\""
   ]
  }
 ],
 "metadata": {
  "kernelspec": {
   "display_name": "langraph_env",
   "language": "python",
   "name": "python3"
  },
  "language_info": {
   "codemirror_mode": {
    "name": "ipython",
    "version": 3
   },
   "file_extension": ".py",
   "mimetype": "text/x-python",
   "name": "python",
   "nbconvert_exporter": "python",
   "pygments_lexer": "ipython3",
   "version": "3.12.3"
  }
 },
 "nbformat": 4,
 "nbformat_minor": 5
}
