{
 "cells": [
  {
   "cell_type": "code",
   "execution_count": 14,
   "id": "7f08a6a6",
   "metadata": {},
   "outputs": [],
   "source": [
    "\n",
    "from typing import TypedDict, List\n",
    "from langchain_core.messages import HumanMessage\n",
    "from langchain_openai import ChatOpenAI\n",
    "from langgraph.graph import StateGraph, START, END\n",
    "\n"
   ]
  },
  {
   "cell_type": "code",
   "execution_count": 15,
   "id": "426cd801",
   "metadata": {},
   "outputs": [],
   "source": [
    "class AgentState(TypedDict):\n",
    "    \"\"\"State of the agent.\"\"\"\n",
    "    messages: List[HumanMessage]"
   ]
  },
  {
   "cell_type": "code",
   "execution_count": 16,
   "id": "8bf43566",
   "metadata": {},
   "outputs": [],
   "source": [
    "\n",
    "from langchain_community.chat_models import ChatOllama\n",
    "\n",
    "llm = ChatOllama(\n",
    "    model=\"qwen3:1.7b\",      # change to your model name\n",
    "    temperature=0,       # deterministic output\n",
    "    base_url=\"http://localhost:11434\"  # Ollama default server URL\n",
    ")"
   ]
  },
  {
   "cell_type": "code",
   "execution_count": 17,
   "id": "49c12795",
   "metadata": {},
   "outputs": [],
   "source": [
    "def  process(state:AgentState) -> AgentState:\n",
    "    response= llm.invoke(state['messages'])\n",
    "    print(f\"Response: {response.content}\")\n",
    "    return state\n"
   ]
  },
  {
   "cell_type": "code",
   "execution_count": 18,
   "id": "9936047b",
   "metadata": {},
   "outputs": [],
   "source": [
    "graph =  StateGraph(AgentState)\n",
    "graph.add_node(\"process\", process)\n",
    "graph.add_edge(START, \"process\")\n",
    "graph.add_edge(\"process\", END)\n",
    "agent = graph.compile()\n"
   ]
  },
  {
   "cell_type": "code",
   "execution_count": 19,
   "id": "d1483e97",
   "metadata": {},
   "outputs": [
    {
     "name": "stdout",
     "output_type": "stream",
     "text": [
      "Response: <think>\n",
      "Okay, the user is asking for the capital of France. I need to make sure I get this right. Let me think. I remember that France is a country in Europe, and the capital is the largest city. I think it's Paris. But wait, let me verify. The French government is based in Paris, and it's the seat of the government. So yes, Paris is the capital. I should check if there's any other city that might be considered, but no, I'm pretty sure it's Paris. Maybe the user is testing if I know the answer, so I should be concise. Just state that the capital is Paris and mention that it's the seat of government. Also, maybe add a bit about why it's important, like its historical significance. But the user might just want the direct answer. Let me make sure there's no confusion with other capitals. For example, the capital of Spain is Madrid, but France's is Paris. So the answer is clear.\n",
      "</think>\n",
      "\n",
      "The capital of France is **Paris**. It is the largest city in France and the seat of government, housing the French Parliament, the President of the Republic, and other key governmental institutions.\n"
     ]
    },
    {
     "data": {
      "text/plain": [
       "{'messages': [HumanMessage(content='What is the capital of France?', additional_kwargs={}, response_metadata={})]}"
      ]
     },
     "execution_count": 19,
     "metadata": {},
     "output_type": "execute_result"
    }
   ],
   "source": [
    "user_input = \"What is the capital of France?\"\n",
    "agent.invoke({\n",
    "    \"messages\": [HumanMessage(content=user_input)]\n",
    "})"
   ]
  },
  {
   "cell_type": "code",
   "execution_count": null,
   "id": "cd1f4974",
   "metadata": {},
   "outputs": [],
   "source": []
  }
 ],
 "metadata": {
  "kernelspec": {
   "display_name": "langraph_env",
   "language": "python",
   "name": "python3"
  },
  "language_info": {
   "codemirror_mode": {
    "name": "ipython",
    "version": 3
   },
   "file_extension": ".py",
   "mimetype": "text/x-python",
   "name": "python",
   "nbconvert_exporter": "python",
   "pygments_lexer": "ipython3",
   "version": "3.12.3"
  }
 },
 "nbformat": 4,
 "nbformat_minor": 5
}
