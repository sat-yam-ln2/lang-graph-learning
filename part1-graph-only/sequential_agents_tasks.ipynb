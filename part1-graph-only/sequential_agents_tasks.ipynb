{
 "cells": [
  {
   "cell_type": "code",
   "execution_count": 2,
   "id": "75da3e2e",
   "metadata": {},
   "outputs": [],
   "source": [
    "from typing import TypedDict\n",
    "from langgraph.graph import StateGraph"
   ]
  },
  {
   "cell_type": "code",
   "execution_count": 3,
   "id": "340fe9aa",
   "metadata": {},
   "outputs": [],
   "source": [
    "class AgentState(TypedDict):\n",
    "    name: str\n",
    "    age : int\n",
    "    skills : list[str]\n",
    "    final : str\n",
    "\n",
    "\n"
   ]
  },
  {
   "cell_type": "code",
   "execution_count": 4,
   "id": "166f8076",
   "metadata": {},
   "outputs": [],
   "source": [
    "def node_one(state: AgentState) -> AgentState:\n",
    "    state['final'] = f\"Hello {state['name']}!\"\n",
    "    return state\n",
    "def node_two(state: AgentState) -> AgentState:\n",
    "    state['final'] += f\" You are {state['age']} years old.\"\n",
    "    return state\n",
    "def node_three(state: AgentState) -> AgentState:\n",
    "    state['final'] += f\" Your skills are {', '.join(state['skills'])}.\"\n",
    "    return state"
   ]
  },
  {
   "cell_type": "code",
   "execution_count": 5,
   "id": "8f0f2cff",
   "metadata": {},
   "outputs": [],
   "source": [
    "graph = StateGraph(AgentState)\n",
    "graph.add_node(\"node_one\", node_one)\n",
    "graph.add_node(\"node_two\", node_two)\n",
    "graph.add_node(\"node_three\", node_three)\n",
    "\n",
    "graph.set_entry_point(\"node_one\")\n",
    "graph.add_edge(\"node_one\", \"node_two\")\n",
    "graph.add_edge(\"node_two\", \"node_three\")\n",
    "graph.set_finish_point(\"node_three\")\n",
    "\n",
    "app = graph.compile()"
   ]
  },
  {
   "cell_type": "code",
   "execution_count": 6,
   "id": "c1407df5",
   "metadata": {},
   "outputs": [
    {
     "data": {
      "image/png": "[encoded data removed]",
      "text/plain": [
       "<IPython.core.display.Image object>"
      ]
     },
     "metadata": {},
     "output_type": "display_data"
    }
   ],
   "source": [
    "from IPython.display import display, Image\n",
    "display(Image(app.get_graph().draw_mermaid_png()))"
   ]
  },
  {
   "cell_type": "code",
   "execution_count": 7,
   "id": "647a43e1",
   "metadata": {},
   "outputs": [
    {
     "name": "stdout",
     "output_type": "stream",
     "text": [
      "Hello Earther! You are 30 years old. Your skills are Python, AI.\n"
     ]
    }
   ],
   "source": [
    "result = app.invoke(AgentState(name=\"Earther\", age=30, skills=[\"Python\", \"AI\"], final=\"\"))\n",
    "print(result['final'])"
   ]
  }
 ],
 "metadata": {
  "kernelspec": {
   "display_name": "md-ai",
   "language": "python",
   "name": "python3"
  },
  "language_info": {
   "codemirror_mode": {
    "name": "ipython",
    "version": 3
   },
   "file_extension": ".py",
   "mimetype": "text/x-python",
   "name": "python",
   "nbconvert_exporter": "python",
   "pygments_lexer": "ipython3",
   "version": "3.9.15"
  }
 },
 "nbformat": 4,
 "nbformat_minor": 5
}
